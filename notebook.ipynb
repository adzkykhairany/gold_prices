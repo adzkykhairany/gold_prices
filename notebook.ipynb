{
 "cells": [
  {
   "cell_type": "markdown",
   "id": "f4b9cf3a",
   "metadata": {},
   "source": [
    "Imports and Reading Data"
   ]
  },
  {
   "cell_type": "code",
   "execution_count": 5,
   "id": "aad688a1",
   "metadata": {},
   "outputs": [],
   "source": [
    "import pandas as pd\n",
    "import numpy as np\n",
    "import matplotlib.pylab as plt\n",
    "import seaborn as sns\n",
    "import requests\n",
    "plt.style.use('ggplot')\n",
    "# pd.set_option('max_columns', 200) ## Uncomment to see more columns when printing dataframes"
   ]
  },
  {
   "cell_type": "code",
   "execution_count": null,
   "id": "013e0592",
   "metadata": {},
   "outputs": [
    {
     "name": "stdout",
     "output_type": "stream",
     "text": [
      "{\"timestamp\":1761060579,\"metal\":\"XAU\",\"currency\":\"USD\",\"exchange\":\"FOREXCOM\",\"symbol\":\"FOREXCOM:XAUUSD\",\"prev_close_price\":4356.41,\"open_price\":4356.41,\"low_price\":4080.62,\"high_price\":4375.4,\"open_time\":1761004800,\"price\":4127.955,\"ch\":-228.45,\"chp\":-5.24,\"ask\":4128.46,\"bid\":4127.36,\"price_gram_24k\":132.7168,\"price_gram_22k\":121.6571,\"price_gram_21k\":116.1272,\"price_gram_20k\":110.5974,\"price_gram_18k\":99.5376,\"price_gram_16k\":88.4779,\"price_gram_14k\":77.4182,\"price_gram_10k\":55.2987}\n"
     ]
    }
   ],
   "source": [
    "# API Request\n",
    "def get_api_request():\n",
    "    api_key = \"goldapi-2kt5casmh093ac8-io\"\n",
    "    symbol = \"XAU\"\n",
    "    curr = \"USD\"\n",
    "    date = \"\"\n",
    "\n",
    "    url = f\"https://www.goldapi.io/api/{symbol}/{curr}{date}\"\n",
    "    \n",
    "    headers = {\n",
    "        \"x-access-token\": api_key,\n",
    "        \"Content-Type\": \"application/json\"\n",
    "    }\n",
    "    \n",
    "    try:\n",
    "        response = requests.get(url, headers=headers)\n",
    "        response.raise_for_status()\n",
    "\n",
    "        result = response.text\n",
    "        print(result)\n",
    "    except requests.exceptions.RequestException as e:\n",
    "        print(\"Error:\", str(e))\n",
    "\n",
    "get_api_request()"
   ]
  }
 ],
 "metadata": {
  "kernelspec": {
   "display_name": "Python 3",
   "language": "python",
   "name": "python3"
  },
  "language_info": {
   "codemirror_mode": {
    "name": "ipython",
    "version": 3
   },
   "file_extension": ".py",
   "mimetype": "text/x-python",
   "name": "python",
   "nbconvert_exporter": "python",
   "pygments_lexer": "ipython3",
   "version": "3.13.5"
  }
 },
 "nbformat": 4,
 "nbformat_minor": 5
}
