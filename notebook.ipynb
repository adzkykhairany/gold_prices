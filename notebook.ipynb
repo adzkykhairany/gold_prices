{
 "cells": [
  {
   "cell_type": "markdown",
   "id": "f4b9cf3a",
   "metadata": {},
   "source": [
    "Imports and Reading Data"
   ]
  },
  {
   "cell_type": "code",
   "execution_count": 6,
   "id": "aad688a1",
   "metadata": {},
   "outputs": [],
   "source": [
    "#Import Library\n",
    "import pandas as pd\n",
    "import numpy as np\n",
    "import matplotlib.pylab as plt\n",
    "import seaborn as sns\n",
    "import requests\n",
    "import time\n",
    "from datetime import datetime\n",
    "plt.style.use('ggplot')\n",
    "# pd.set_option('max_columns', 200) ## Uncomment to see more columns when printing dataframes"
   ]
  },
  {
   "cell_type": "code",
   "execution_count": 7,
   "id": "013e0592",
   "metadata": {},
   "outputs": [],
   "source": [
    "#API Request\n",
    "def make_gapi_request(date=None):\n",
    "    api_key = \"goldapi-2kt5casmh093ac8-io\"\n",
    "    symbol = \"XAU\"\n",
    "    curr = \"USD\"\n",
    "\n",
    "    if date:\n",
    "        url = f\"https://www.goldapi.io/api/{symbol}/{curr}/{date}\"\n",
    "    else:\n",
    "        url = f\"https://www.goldapi.io/api/{symbol}/{curr}\"\n",
    "\n",
    "    headers = {\n",
    "        \"x-access-token\" : api_key,\n",
    "        \"Content-Type\" : \"application/json\"\n",
    "    }\n",
    "\n",
    "    try:\n",
    "        response = requests.get(url, headers=headers)\n",
    "        response.raise_for_status()  # Raise an error for bad status codes\n",
    "        \n",
    "        data = response.json()\n",
    "\n",
    "        #Extract key information (price and timestamp)\n",
    "        price = data.get(\"price\", None)\n",
    "        timestamp = data.get(\"timestamp\", None)\n",
    "        if timestamp:\n",
    "            timestamp = datetime.fromtimestamp(timestamp / 1000)  # Convert milliseconds to seconds\n",
    "        return {\"Date\": timestamp, \"Gold_Price_USD\": price}\n",
    "    \n",
    "    except Exception as e:\n",
    "        print(f\"Error: {e}\")\n",
    "        return None"
   ]
  },
  {
   "cell_type": "code",
   "execution_count": 8,
   "id": "666f4528",
   "metadata": {},
   "outputs": [
    {
     "name": "stdout",
     "output_type": "stream",
     "text": [
      "                     Date  Gold_Price_USD\n",
      "0 1970-01-21 16:11:02.889        4134.365\n"
     ]
    }
   ],
   "source": [
    "# Convert to DataFrame\n",
    "record = make_gapi_request()\n",
    "if record:\n",
    "    df = pd.DataFrame([record])\n",
    "    print(df)"
   ]
  },
  {
   "cell_type": "markdown",
   "id": "d842d51f",
   "metadata": {},
   "source": [
    "Step 1: Data Understanding\n",
    "- Dataframe `shape`\n",
    "- `head` and `tail`\n",
    "- dtypes\n",
    "- describe"
   ]
  },
  {
   "cell_type": "code",
   "execution_count": 9,
   "id": "9490addc",
   "metadata": {},
   "outputs": [
    {
     "data": {
      "text/plain": [
       "(1, 2)"
      ]
     },
     "execution_count": 9,
     "metadata": {},
     "output_type": "execute_result"
    }
   ],
   "source": [
    "df.shape"
   ]
  }
 ],
 "metadata": {
  "kernelspec": {
   "display_name": "Python 3",
   "language": "python",
   "name": "python3"
  },
  "language_info": {
   "codemirror_mode": {
    "name": "ipython",
    "version": 3
   },
   "file_extension": ".py",
   "mimetype": "text/x-python",
   "name": "python",
   "nbconvert_exporter": "python",
   "pygments_lexer": "ipython3",
   "version": "3.13.5"
  }
 },
 "nbformat": 4,
 "nbformat_minor": 5
}
